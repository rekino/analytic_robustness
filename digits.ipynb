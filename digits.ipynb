{
 "cells": [
  {
   "cell_type": "markdown",
   "metadata": {},
   "source": [
    "# Robust classification of digits by polynomials\n",
    "\n",
    "In this notebook, we will demonstrate that the proposed framework is applicable to real-world scrnarios. We will train a Chebyshev polynomial to label a pictures as being one of the digits 0 to 9. We will use a subset of UCI digits dataset that is available in the scikit-learn python package. Each sample is a 8x8 grayscale picture. We will transform the samples to fit inside $x\\in[-1,1]^{64}$.\n",
    "\n",
    "We will use the Chebyshev polynomials $T_\\alpha$ as features. However, it would be computationally intractable to to include all possible polynomial bases in the hypothesis. To see why, consider the count of all polynomial bases where each $x_i$ has a degree of at most one. This set has the same cardinality with a set that contains all possible subsets of $\\{x_i\\}_{i=1}^{64}$, i.e. the power set of $\\{x_i\\}_{i=1}^{64}$. Consequently, we have to decide which polynomial basis would be added to the hypothesis.\n",
    "\n",
    "To do so, we enumerate all the possible walks up to $D$ steps on a 8x8 lattice, and then map each walk to a polynomial. A node in the lattice represents a pixel, and the structure of the lattice represents the structure of a 2D image. A walk with $D$ steps would be mapped to a degree $D$ polynomial. For example, the following walk\n",
    "$$\n",
    "x_{00} \\rightarrow x_{01} \\rightarrow x_{11} \\rightarrow x_{10} \\rightarrow x_{00}\n",
    "$$\n",
    "would be mapped to\n",
    "$$\n",
    "T_2(x_{00})T_1(x_{01})T_1(x_{11})T_1(x_{10}).\n",
    "$$"
   ]
  },
  {
   "cell_type": "code",
   "execution_count": 1,
   "metadata": {},
   "outputs": [],
   "source": [
    "import networkx as nx\n",
    "\n",
    "def all_paths(G, max_depth, history=None, depth=1, paths=None, graph_search=False):\n",
    "    if depth > max_depth:\n",
    "        return []\n",
    "\n",
    "    if paths is None:\n",
    "        paths = set()\n",
    "\n",
    "    if history is None:\n",
    "        for v in G:\n",
    "            hist = [v]\n",
    "            paths.add(tuple(hist))\n",
    "            all_paths(G, max_depth, hist, depth+1, paths)\n",
    "    else:\n",
    "        for v in G[history[-1]]:\n",
    "            if graph_search and v in history:\n",
    "                continue\n",
    "            hist = history + [v]\n",
    "            paths.add(tuple(sorted(hist)))\n",
    "            all_paths(G, max_depth, hist, depth+1, paths)\n",
    "\n",
    "    return list(sorted(paths))\n",
    "\n",
    "def get_basis(G, deg):\n",
    "    paths = all_paths(G, deg)\n",
    "\n",
    "    basis = []\n",
    "    for path in paths:\n",
    "        j, d = [], []\n",
    "        for v in set(path):\n",
    "            j.append(v[0]*8+v[1])\n",
    "            d.append(path.count(v))\n",
    "        basis.append((j, d))\n",
    "    return basis\n",
    "\n",
    "G = nx.generators.lattice.grid_2d_graph(8, 8)\n",
    "\n",
    "# We add self-loops to each node so that a node could be repeated in the walk even when the length\n",
    "# of the walk is less than the lenght of the shortest loop in the graph\n",
    "for v in G:\n",
    "    G.add_edge(v, v)"
   ]
  },
  {
   "cell_type": "markdown",
   "metadata": {},
   "source": [
    "Now that we have choosen our set of features, we can apply the proposed robust framework to train a robust classifier for the digits dataset. First, we will load and preprocess the dataset."
   ]
  },
  {
   "cell_type": "code",
   "execution_count": 2,
   "metadata": {},
   "outputs": [],
   "source": [
    "from sklearn import datasets, metrics, svm\n",
    "from sklearn.model_selection import train_test_split\n",
    "\n",
    "digits = datasets.load_digits()\n",
    "\n",
    "# flatten the images\n",
    "n_samples = len(digits.images)\n",
    "data = digits.images.reshape((n_samples, -1))\n",
    "\n",
    "# Split data into 50% train and 50% test subsets\n",
    "X_train, X_test, y_train, y_test = train_test_split(\n",
    "    data, digits.target, test_size=0.5, shuffle=False)\n",
    "\n",
    "# Scale the pixels into [-1, 1] interval\n",
    "X_train = X_train / 8 - 1\n",
    "X_test = X_test / 8 - 1"
   ]
  },
  {
   "cell_type": "markdown",
   "metadata": {},
   "source": [
    "We will need to compute the tunning matrix for the set of bases."
   ]
  },
  {
   "cell_type": "code",
   "execution_count": 3,
   "metadata": {},
   "outputs": [],
   "source": [
    "import numpy as np\n",
    "from itertools import combinations_with_replacement, repeat\n",
    "\n",
    "def Itv(bi, bj):\n",
    "    \"\"\"\n",
    "    Helper function for computing the inner product between Chebyshev polynomials of the first kind\n",
    "    \"\"\"\n",
    "    return np.where(bi == bj, np.where(bi == 0, 1, 1/2), 0)\n",
    "\n",
    "def Iuv(bi, bj):\n",
    "    \"\"\"\n",
    "    Helper function for computing the inner product between Chebyshev polynomials of the second kind\n",
    "    \"\"\"\n",
    "    return np.where((bi % 2) == (bj % 2), np.where(bi % 2 == 0, 1 + 2 * np.floor(np.minimum(bi, bj) / 2), 2 * np.ceil(np.minimum(bi, bj) / 2)), 0)\n",
    "\n",
    "def Ib(bi, bj):\n",
    "    \"\"\"\n",
    "    Helper function for computing the tuning matrix\n",
    "    \"\"\"\n",
    "    res = 0\n",
    "    N = len(bi)\n",
    "    temp = Itv(bi, bj) ** (1 - np.eye(bi.size))\n",
    "    res = np.sum(bi * bj * Iuv(bi - 1, bj - 1) * np.prod(temp, axis=-1))\n",
    "    return res\n",
    "\n",
    "def tunning_mat(basis):\n",
    "    M = len(basis)\n",
    "    MM = M*(M-1) / 2 + M\n",
    "    Sigma = np.eye(M)\n",
    "\n",
    "    counter = 0\n",
    "    for i, j in combinations_with_replacement(range(M), r=2):\n",
    "        if counter%100 == 0: print('\\rcomputing the tuning matrix %f' % (counter / MM), end='')\n",
    "        counter += 1\n",
    "        bi = np.zeros(64)\n",
    "        bi[basis[i][0]] = basis[i][1]\n",
    "        bj = np.zeros(64)\n",
    "        bj[basis[j][0]] = basis[j][1]\n",
    "        inner = Ib(bi, bj)\n",
    "        Sigma[(i, j), (j, i)] = inner\n",
    "    print()\n",
    "    return Sigma"
   ]
  },
  {
   "cell_type": "markdown",
   "metadata": {},
   "source": [
    "Finally, we implement a one-step $\\ell^2$ normalized gradient based attack to see how robust the output of the learning rules are."
   ]
  },
  {
   "cell_type": "code",
   "execution_count": 4,
   "metadata": {},
   "outputs": [],
   "source": [
    "from scipy.misc import derivative\n",
    "\n",
    "def attack_grad(clf, x, y, C):\n",
    "    def obj(r, i):\n",
    "        _x = np.copy(x)\n",
    "        _x[0, i] = r\n",
    "\n",
    "        log_proba = clf(_x)\n",
    "        return log_proba[0, y]\n",
    "    \n",
    "    x = x[None, :]\n",
    "    grad = np.array([derivative(lambda r: obj(r, i), x[0, i]) for i in range(x.shape[1])])\n",
    "    adv_dir = grad / np.linalg.norm(grad, ord=2)\n",
    "\n",
    "    return np.clip(x - C * adv_dir[None, :], -1, 1)"
   ]
  },
  {
   "cell_type": "markdown",
   "metadata": {},
   "source": [
    "Next, we will conduct an experiment to show that the proposed framework would indeed result in a hypothesis that is more robust against adversarial attacks. To do so, we will train orthonormal and harmonic Chebyshev polynomials of increasing degree, and compare their performance against a blackbox attack. We will use a MLP classifier as the surrogate."
   ]
  },
  {
   "cell_type": "code",
   "execution_count": 5,
   "metadata": {},
   "outputs": [
    {
     "name": "stdout",
     "output_type": "stream",
     "text": [
      "Accuracy of MLP classifier on natural samples: 0.94\n",
      "attacking the test set 0.889878\n",
      "Accuracy of MLP classifier on adversarial samples: 0.61\n"
     ]
    }
   ],
   "source": [
    "from sklearn.neural_network import MLPClassifier\n",
    "\n",
    "def f1(clf, X, y):\n",
    "    yhat = clf.predict(X)\n",
    "    return metrics.f1_score(yhat, y, pos_label=None, average='weighted')\n",
    "\n",
    "\n",
    "cls_mlp = MLPClassifier(hidden_layer_sizes=(40, 30, 20), activation='relu', solver='adam', random_state=2)\n",
    "cls_mlp.fit(X_train, y_train)\n",
    "\n",
    "nat_mlp_score = f1(cls_mlp, X_test, y_test)\n",
    "\n",
    "print('Accuracy of MLP classifier on natural samples: %1.2f' % nat_mlp_score)\n",
    "\n",
    "adv_mlp = []\n",
    "counter = 0\n",
    "for x, y in zip(X_test, y_test):\n",
    "    if counter % 100 == 0:\n",
    "        print('\\rattacking the test set %f' % (counter / X_test.shape[0]), end='')\n",
    "    counter += 1\n",
    "    adv_mlp.append(attack_grad(cls_mlp.predict_log_proba, x, y, 1))\n",
    "print('\\rattacking the test set 1.0')\n",
    "adv_mlp = np.vstack(adv_mlp)\n",
    "\n",
    "adv_mlp_score = f1(cls_mlp, adv_mlp, y_test)\n",
    "print('Accuracy of MLP classifier on adversarial samples: %1.2f' % adv_mlp_score)"
   ]
  },
  {
   "cell_type": "code",
   "execution_count": 6,
   "metadata": {},
   "outputs": [
    {
     "name": "stdout",
     "output_type": "stream",
     "text": [
      "computing the Vandermonde matrix 0.99\n",
      "computing the Vandermonde matrix 0.99\n"
     ]
    },
    {
     "name": "stderr",
     "output_type": "stream",
     "text": [
      "C:\\Users\\Ramin\\AppData\\Roaming\\Python\\Python38\\site-packages\\sklearn\\svm\\_base.py:976: ConvergenceWarning: Liblinear failed to converge, increase the number of iterations.\n",
      "  warnings.warn(\"Liblinear failed to converge, increase \"\n"
     ]
    },
    {
     "name": "stdout",
     "output_type": "stream",
     "text": [
      "computing the Vandermonde matrix 0.99\n",
      "computing the tuning matrix 0.961538\n"
     ]
    },
    {
     "name": "stderr",
     "output_type": "stream",
     "text": [
      "C:\\Users\\Ramin\\AppData\\Roaming\\Python\\Python38\\site-packages\\sklearn\\svm\\_base.py:976: ConvergenceWarning: Liblinear failed to converge, increase the number of iterations.\n",
      "  warnings.warn(\"Liblinear failed to converge, increase \"\n"
     ]
    },
    {
     "name": "stdout",
     "output_type": "stream",
     "text": [
      "computing the Vandermonde matrix 0.99\n",
      "computing the Vandermonde matrix 0.99\n"
     ]
    },
    {
     "name": "stderr",
     "output_type": "stream",
     "text": [
      "C:\\Users\\Ramin\\AppData\\Roaming\\Python\\Python38\\site-packages\\sklearn\\svm\\_base.py:976: ConvergenceWarning: Liblinear failed to converge, increase the number of iterations.\n",
      "  warnings.warn(\"Liblinear failed to converge, increase \"\n"
     ]
    },
    {
     "name": "stdout",
     "output_type": "stream",
     "text": [
      "computing the Vandermonde matrix 0.99\n",
      "computing the tuning matrix 0.999308\n"
     ]
    },
    {
     "name": "stderr",
     "output_type": "stream",
     "text": [
      "C:\\Users\\Ramin\\AppData\\Roaming\\Python\\Python38\\site-packages\\sklearn\\svm\\_base.py:976: ConvergenceWarning: Liblinear failed to converge, increase the number of iterations.\n",
      "  warnings.warn(\"Liblinear failed to converge, increase \"\n"
     ]
    },
    {
     "name": "stdout",
     "output_type": "stream",
     "text": [
      "computing the Vandermonde matrix 0.99\n",
      "computing the Vandermonde matrix 0.99\n",
      "computing the Vandermonde matrix 0.99\n",
      "computing the tuning matrix 0.999970\n",
      "computing the Vandermonde matrix 0.99\n",
      "computing the Vandermonde matrix 0.99\n",
      "computing the Vandermonde matrix 0.99\n",
      "computing the tuning matrix 0.999977\n"
     ]
    }
   ],
   "source": [
    "from numpy.polynomial import chebyshev as ch\n",
    "from itertools import product\n",
    "from scipy.linalg import sqrtm\n",
    "\n",
    "def vander(X, basis, deg, verbose=True):\n",
    "    N = X.shape[0]\n",
    "    M = len(basis)\n",
    "    V = np.ones((N, M))\n",
    "    for n, m in product(range(N), range(M)):\n",
    "        if verbose and n%10 == 0 and m%M == 0: print('\\rcomputing the Vandermonde matrix %1.2f' % (n/N), end='')\n",
    "        v = ch.chebvander(X[n], deg)\n",
    "        V[n, m] = np.prod(v[basis[m]])\n",
    "    print()\n",
    "    return V\n",
    "\n",
    "degrees = [1, 2, 3, 4]\n",
    "\n",
    "nat_orth_score = []\n",
    "nat_sync_score = []\n",
    "\n",
    "adv_orth_score = []\n",
    "adv_sync_score = []\n",
    "\n",
    "for deg in degrees:\n",
    "    basis = get_basis(G, deg)\n",
    "\n",
    "    # Orth\n",
    "    V_train_orth = vander(X_train, basis, deg)\n",
    "    V_test_orth = vander(X_test, basis, deg)\n",
    "\n",
    "    clf_orth = svm.LinearSVC()\n",
    "    clf_orth.fit(V_train_orth, y_train)\n",
    "\n",
    "    nat_orth_score.append(f1(clf_orth, V_test_orth, y_test))\n",
    "    V_orth_adv = vander(adv_mlp, basis, deg)\n",
    "    adv_orth_score.append(f1(clf_orth, V_orth_adv, y_test))\n",
    "    # Orth\n",
    "\n",
    "    # Harm\n",
    "    Sigma = tunning_mat(basis)\n",
    "    Lambda = np.real(sqrtm(np.linalg.inv(Sigma)))\n",
    "\n",
    "    V_train_harm = V_train_orth @ Lambda\n",
    "    V_test_harm = V_test_orth @ Lambda\n",
    "\n",
    "    clf_harm = svm.LinearSVC()\n",
    "    clf_harm.fit(V_train_harm, y_train)\n",
    "\n",
    "    nat_sync_score.append(f1(clf_harm, V_test_harm, y_test))\n",
    "    V_harm_adv = V_orth_adv @ Lambda\n",
    "    adv_sync_score.append(f1(clf_harm, V_harm_adv, y_test))\n",
    "    # Harm"
   ]
  },
  {
   "cell_type": "markdown",
   "metadata": {},
   "source": [
    "In the end, we will plot the accuracy of each classifer on the natural and adversarial examples as a function of the maximum degree of the included polynomials."
   ]
  },
  {
   "cell_type": "code",
   "execution_count": 9,
   "metadata": {},
   "outputs": [
    {
     "name": "stderr",
     "output_type": "stream",
     "text": [
      "The PostScript backend does not support transparency; partially transparent artists will be rendered opaque.\n",
      "The PostScript backend does not support transparency; partially transparent artists will be rendered opaque.\n",
      "The PostScript backend does not support transparency; partially transparent artists will be rendered opaque.\n",
      "The PostScript backend does not support transparency; partially transparent artists will be rendered opaque.\n"
     ]
    },
    {
     "data": {
      "image/png": "[encoded data removed]",
      "text/plain": [
       "<Figure size 432x288 with 2 Axes>"
      ]
     },
     "metadata": {
      "needs_background": "light"
     },
     "output_type": "display_data"
    }
   ],
   "source": [
    "import matplotlib.pyplot as plt\n",
    "from matplotlib.ticker import FormatStrFormatter\n",
    "\n",
    "fig, ax = plt.subplots(1, 2)\n",
    "ax[0].yaxis.set_major_formatter(FormatStrFormatter('%.2f'))\n",
    "ax[0].set_title('Natural')\n",
    "ax[0].plot(degrees, [nat_mlp_score] * len(degrees), label='baseline', marker='.')\n",
    "ax[0].plot(degrees, nat_orth_score, label='orth. Cheb.', marker='v')\n",
    "ax[0].plot(degrees, nat_sync_score, label='harm. Cheb.', marker='x')\n",
    "ax[0].set_ylabel(r'avg. f1-score')\n",
    "ax[0].set_xlabel(r'degree')\n",
    "ax[0].legend()\n",
    "\n",
    "ax[1].yaxis.set_major_formatter(FormatStrFormatter('%.2f'))\n",
    "ax[1].set_title('Adversarial')\n",
    "ax[1].plot(degrees, [adv_mlp_score] * len(degrees), label='baseline', marker='.')\n",
    "ax[1].plot(degrees, adv_orth_score, label='orth. Cheb.', marker='v')\n",
    "ax[1].plot(degrees, adv_sync_score, label='harm. Cheb.', marker='x')\n",
    "ax[1].set_xlabel(r'degree')\n",
    "ax[1].legend()\n",
    "\n",
    "fig.savefig('digits.eps', bbox_inches='tight', dpi=100)"
   ]
  },
  {
   "cell_type": "markdown",
   "metadata": {},
   "source": [
    "The result suggests that as we include more polynomial bases, the harmonic hypothesis gets more robust. On the other hand, the orthonormal Chebyshev does not show the same pattern, and it seems that including higher degree polynomials would worsen its performance on adversarial examples. Moreover, we can see that the adversarial examples of the MLP classifier transfers to the polynomial hypothesis. This observation is inline with the prediction of our framework in which ANNs and polynomials are different representations of the same normal hypothesis class."
   ]
  }
 ],
 "metadata": {
  "kernelspec": {
   "display_name": "Python 3.8.5 64-bit",
   "language": "python",
   "name": "python3"
  },
  "language_info": {
   "codemirror_mode": {
    "name": "ipython",
    "version": 3
   },
   "file_extension": ".py",
   "mimetype": "text/x-python",
   "name": "python",
   "nbconvert_exporter": "python",
   "pygments_lexer": "ipython3",
   "version": "3.8.5"
  },
  "orig_nbformat": 4,
  "vscode": {
   "interpreter": {
    "hash": "e50d3b6b967b1f11efb2cb0ce102d6b35cde92629c83d0f916850b20db4f520f"
   }
  }
 },
 "nbformat": 4,
 "nbformat_minor": 2
}
